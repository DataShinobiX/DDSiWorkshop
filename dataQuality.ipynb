{
 "cells": [
  {
   "cell_type": "markdown",
   "id": "3b6d80b4",
   "metadata": {},
   "source": [
    "<h2>Assignment 1.1</h2>"
   ]
  },
  {
   "cell_type": "code",
   "execution_count": 1,
   "id": "9b4c21e9",
   "metadata": {},
   "outputs": [],
   "source": [
    "import pandas as pd\n",
    "import numpy as np\n",
    "import matplotlib.pyplot as plt\n",
    "import seaborn as sns\n",
    "from datetime import datetime\n",
    "import plotly.express as px"
   ]
  },
  {
   "cell_type": "code",
   "execution_count": 2,
   "id": "ab261511",
   "metadata": {},
   "outputs": [],
   "source": [
    "transactions = pd.read_csv('Comfy_Data/Transactions.csv', sep = ';') #transactions data\n",
    "clients = pd.read_csv('Comfy_Data/Client_information.csv', sep = ';')"
   ]
  },
  {
   "cell_type": "code",
   "execution_count": 3,
   "id": "715d20cc",
   "metadata": {},
   "outputs": [],
   "source": [
    "# Convert 'Sale_Return', 'Client_id', 'Credit', and 'SKU_id', 'Revenue', 'Quantity'  to numeric types\n",
    "transactions['Revenue'] = pd.to_numeric(transactions['Revenue'], errors='coerce')\n",
    "transactions['Quantity'] = pd.to_numeric(transactions['Quantity'], errors='coerce')\n",
    "transactions['Sale_Return'] = pd.to_numeric(transactions['Sale_Return'], errors='coerce')\n",
    "transactions['Client_id'] = pd.to_numeric(transactions['Client_id'], errors='coerce')\n",
    "transactions['Credit'] = pd.to_numeric(transactions['Credit'], errors='coerce')\n",
    "transactions['SKU_id'] = pd.to_numeric(transactions['SKU_id'], errors='coerce')\n",
    "\n",
    "#Convert to date time \n",
    "transactions['Date'] = pd.to_datetime(transactions['Date'], errors='coerce')"
   ]
  },
  {
   "cell_type": "code",
   "execution_count": 4,
   "id": "670a7cfd",
   "metadata": {},
   "outputs": [
    {
     "name": "stdout",
     "output_type": "stream",
     "text": [
      "City                    object\n",
      "Date            datetime64[ns]\n",
      "Receipt_id              object\n",
      "Sale_Return              int64\n",
      "Client_id                int64\n",
      "Channel                 object\n",
      "Platform                object\n",
      "Credit                   int64\n",
      "SKU_id                   int64\n",
      "Business                object\n",
      "Brand                   object\n",
      "Category                object\n",
      "Region                  object\n",
      "Revenue                float64\n",
      "Quantity               float64\n",
      "City_On_Off             object\n",
      "Category_Ukr            object\n",
      "dtype: object\n"
     ]
    }
   ],
   "source": [
    "print(transactions.dtypes)\n"
   ]
  },
  {
   "cell_type": "code",
   "execution_count": 5,
   "id": "361a9387",
   "metadata": {},
   "outputs": [],
   "source": [
    "def count_blanks_and_hyphens(df):\n",
    "    blank_counts = {}\n",
    "    for column in df.columns:\n",
    "        blank_count = (df[column].isna().sum()) + (df[column] == '').sum() + (df[column] == '-').sum()\n",
    "        blank_counts[column] = blank_count\n",
    "    return blank_counts"
   ]
  },
  {
   "cell_type": "code",
   "execution_count": 6,
   "id": "5ea7c4e8",
   "metadata": {},
   "outputs": [
    {
     "name": "stdout",
     "output_type": "stream",
     "text": [
      "Column 'City' has 0 blank or '-' values.\n",
      "Column 'Date' has 0 blank or '-' values.\n",
      "Column 'Receipt_id' has 0 blank or '-' values.\n",
      "Column 'Sale_Return' has 0 blank or '-' values.\n",
      "Column 'Client_id' has 0 blank or '-' values.\n",
      "Column 'Channel' has 0 blank or '-' values.\n",
      "Column 'Platform' has 123 blank or '-' values.\n",
      "Column 'Credit' has 0 blank or '-' values.\n",
      "Column 'SKU_id' has 0 blank or '-' values.\n",
      "Column 'Business' has 0 blank or '-' values.\n",
      "Column 'Brand' has 315080 blank or '-' values.\n",
      "Column 'Category' has 0 blank or '-' values.\n",
      "Column 'Region' has 0 blank or '-' values.\n",
      "Column 'Revenue' has 24522 blank or '-' values.\n",
      "Column 'Quantity' has 24522 blank or '-' values.\n",
      "Column 'City_On_Off' has 0 blank or '-' values.\n",
      "Column 'Category_Ukr' has 0 blank or '-' values.\n"
     ]
    }
   ],
   "source": [
    "blank_frequencies = count_blanks_and_hyphens(transactions)\n",
    "# Print the frequencies\n",
    "for column, count in blank_frequencies.items():\n",
    "    print(f\"Column '{column}' has {count} blank or '-' values.\")"
   ]
  },
  {
   "cell_type": "code",
   "execution_count": 7,
   "id": "bb057e40",
   "metadata": {},
   "outputs": [
    {
     "name": "stdout",
     "output_type": "stream",
     "text": [
      "Found 1135569 duplicate(s) in the 'Receipt_id' column\n"
     ]
    }
   ],
   "source": [
    "duplicates = transactions[transactions['Receipt_id'].duplicated()]\n",
    "\n",
    "# Print the result\n",
    "if not duplicates.empty:\n",
    "    print(f\"Found {len(duplicates)} duplicate(s) in the 'Receipt_id' column\")\n",
    "    # print(duplicates)\n",
    "else:\n",
    "    print(\"No duplicates found in the 'Receipt_id' column.\")"
   ]
  },
  {
   "cell_type": "markdown",
   "id": "86852b71",
   "metadata": {},
   "source": [
    "Check for Client_Id Consistency "
   ]
  },
  {
   "cell_type": "code",
   "execution_count": 8,
   "id": "78732e46",
   "metadata": {},
   "outputs": [
    {
     "name": "stdout",
     "output_type": "stream",
     "text": [
      "No transactions found with missing 'Client_id'.\n",
      "All 'Client_id' values in transactions are present in the clients DataFrame.\n"
     ]
    }
   ],
   "source": [
    "missing_client_id = transactions[transactions['Client_id'].isna()]\n",
    "# Print the result\n",
    "if not missing_client_id.empty:\n",
    "    print(f\"Found {len(missing_client_id)} transaction(s) with missing 'Client_id'\")\n",
    "    # print(missing_client_id)\n",
    "else:\n",
    "    print(\"No transactions found with missing 'Client_id'.\")\n",
    "\n",
    "\n",
    "# Find Client_id values in transactions that are not in clients\n",
    "different_client_ids = transactions[~transactions['Client_id'].isin(clients['Client_id'])]\n",
    "\n",
    "if not different_client_ids.empty:\n",
    "    print(f\"Found {len(different_client_ids)} transaction(s) with 'Client_id' not present in the clients DataFrame:\")\n",
    "    print(different_client_ids[['Client_id']].drop_duplicates())  # Print unique Client_id values\n",
    "else:\n",
    "    print(\"All 'Client_id' values in transactions are present in the clients DataFrame.\")"
   ]
  },
  {
   "cell_type": "markdown",
   "id": "0b2b0c9b",
   "metadata": {},
   "source": [
    "Checking Retail and Platform Logic <br>\n",
    "\n",
    "Found only 15 rows where 'Channel' is 'Retail' but 'Platform' is not null or '-'\n"
   ]
  },
  {
   "cell_type": "code",
   "execution_count": 9,
   "id": "92693f0d",
   "metadata": {},
   "outputs": [
    {
     "name": "stdout",
     "output_type": "stream",
     "text": [
      "Unique values in the 'Channel' column \n",
      "['Retail' 'Internet']\n",
      "Unique values in the 'Platform' column \n",
      "[' ' 'web' 'app' '-']\n"
     ]
    }
   ],
   "source": [
    "unique_channels = transactions['Channel'].unique()\n",
    "print(\"Unique values in the 'Channel' column \")\n",
    "print(unique_channels)\n",
    "\n",
    "unique_platforms = transactions['Platform'].unique()\n",
    "print(\"Unique values in the 'Platform' column \")\n",
    "print(unique_platforms)"
   ]
  },
  {
   "cell_type": "code",
   "execution_count": 20,
   "id": "0f66f8b2",
   "metadata": {},
   "outputs": [
    {
     "name": "stdout",
     "output_type": "stream",
     "text": [
      "Found 15 row(s) where 'Channel' is 'Retail' but 'Platform' is not blank space or '-':\n",
      "        Channel Platform\n",
      "60307    Retail      web\n",
      "60308    Retail      web\n",
      "60309    Retail      web\n",
      "235929   Retail      web\n",
      "278142   Retail      app\n",
      "278143   Retail      app\n",
      "278145   Retail      app\n",
      "278146   Retail      app\n",
      "534998   Retail      web\n",
      "1912490  Retail      web\n",
      "1912492  Retail      web\n",
      "1912495  Retail      web\n",
      "2500746  Retail      web\n",
      "2500760  Retail      web\n",
      "2500762  Retail      web\n"
     ]
    }
   ],
   "source": [
    "# Filter rows where Channel is 'Retail' but Platform is not blank space or '-'\n",
    "invalid_platforms = transactions[\n",
    "    (transactions['Channel'] == 'Retail') & \n",
    "    (~transactions['Platform'].isin([' ', '-']))\n",
    "]\n",
    "\n",
    "if not invalid_platforms.empty:\n",
    "    print(f\"Found {len(invalid_platforms)} row(s) where 'Channel' is 'Retail' but 'Platform' is not blank space or '-':\")\n",
    "    print(invalid_platforms[['Channel', 'Platform']])\n",
    "else:\n",
    "    print(\"All rows with 'Channel' as 'Retail' have 'Platform' as blank space or '-'.\")"
   ]
  },
  {
   "cell_type": "markdown",
   "id": "2ada9238",
   "metadata": {},
   "source": [
    "Check for missing SKU_id to check for invalid transaction possibility <br>\n",
    "Result - None Found"
   ]
  },
  {
   "cell_type": "code",
   "execution_count": 11,
   "id": "e8988ab4",
   "metadata": {},
   "outputs": [
    {
     "name": "stdout",
     "output_type": "stream",
     "text": [
      "No transactions found with missing 'SKU_id'.\n"
     ]
    }
   ],
   "source": [
    "missing_sku = transactions[transactions['SKU_id'].isna()]\n",
    "\n",
    "if not missing_sku.empty:\n",
    "    print(f\"Found {len(missing_sku)} transaction(s) with missing 'SKU_id'\")\n",
    "    # print(missing_sku)\n",
    "else:   \n",
    "    print(\"No transactions found with missing 'SKU_id'.\")\n"
   ]
  },
  {
   "cell_type": "markdown",
   "id": "de38846d",
   "metadata": {},
   "source": [
    "Check consistency for Negative or 0 Revenue transactions in dataset"
   ]
  },
  {
   "cell_type": "code",
   "execution_count": 12,
   "id": "7ddd89dc",
   "metadata": {},
   "outputs": [
    {
     "name": "stdout",
     "output_type": "stream",
     "text": [
      "Found 85591 row(s) with negative or zero 'Revenue':\n",
      "         Revenue\n",
      "10        -599.0\n",
      "78       -3099.0\n",
      "86           0.0\n",
      "137          0.0\n",
      "147          0.0\n",
      "...          ...\n",
      "2679307  -3398.0\n",
      "2679309     -1.0\n",
      "2679310   -270.0\n",
      "2679891  -2849.0\n",
      "2679894    -55.0\n",
      "\n",
      "[85591 rows x 1 columns]\n"
     ]
    }
   ],
   "source": [
    "# Filter rows where Revenue is negative or zero\n",
    "invalid_revenue = transactions[transactions['Revenue'] <= 0]\n",
    "\n",
    "# Print the result\n",
    "if not invalid_revenue.empty:\n",
    "    print(f\"Found {len(invalid_revenue)} row(s) with negative or zero 'Revenue':\")\n",
    "    print(invalid_revenue[['Revenue']])\n",
    "else:\n",
    "    print(\"No rows found with negative or zero 'Revenue'.\")"
   ]
  },
  {
   "cell_type": "code",
   "execution_count": 13,
   "id": "405b796f",
   "metadata": {},
   "outputs": [
    {
     "name": "stdout",
     "output_type": "stream",
     "text": [
      "No inconsistencies found where 'Revenue' is negative but 'Sale_Return' is not 0.\n"
     ]
    }
   ],
   "source": [
    "# Filter rows where Revenue is negative but Sale_Return is not 0\n",
    "inconsistent_rows = transactions[(transactions['Revenue'] < 0) & (transactions['Sale_Return'] != 0)]\n",
    "\n",
    "# Print the result\n",
    "if not inconsistent_rows.empty:\n",
    "    print(f\"Found {len(inconsistent_rows)} inconsistent row(s) where 'Revenue' is negative but 'Sale_Return' is not 0:\")\n",
    "    print(inconsistent_rows[['Revenue', 'Sale_Return']])\n",
    "else:\n",
    "    print(\"No inconsistencies found where 'Revenue' is negative but 'Sale_Return' is not 0.\")"
   ]
  },
  {
   "cell_type": "markdown",
   "id": "f408b1b3",
   "metadata": {},
   "source": [
    "Measures for variables"
   ]
  },
  {
   "cell_type": "code",
   "execution_count": 19,
   "id": "44a2a14c",
   "metadata": {},
   "outputs": [
    {
     "name": "stdout",
     "output_type": "stream",
     "text": [
      "Found 412734 outlier(s) in 'Revenue' using IQR method.\n",
      "\n",
      "Outlier Statistics:\n",
      "Minimum outlier value: -288000.0\n",
      "Median outlier value: 13899.0\n",
      "Maximum outlier value: 539909999.0\n",
      "Outlier interval: (-288000.0, 539909999.0)\n",
      "Percentage of outliers: 15.40%\n",
      "\n",
      "Found 51166 transaction(s) with negative Revenue.\n"
     ]
    },
    {
     "data": {
      "image/png": "[encoded data removed]",
      "text/plain": [
       "<Figure size 1000x600 with 1 Axes>"
      ]
     },
     "metadata": {},
     "output_type": "display_data"
    }
   ],
   "source": [
    "# --- Calculate IQR based outlier boundaries for Revenue ---\n",
    "Q1 = transactions['Revenue'].quantile(0.25)\n",
    "Q3 = transactions['Revenue'].quantile(0.75)\n",
    "IQR = Q3 - Q1\n",
    "\n",
    "lower_bound = Q1 - 1.5 * IQR\n",
    "upper_bound = Q3 + 1.5 * IQR\n",
    "\n",
    "# --- Filter out rows with extreme Revenue values ---\n",
    "outliers_iqr = transactions[(transactions['Revenue'] < lower_bound) | (transactions['Revenue'] > upper_bound)]\n",
    "\n",
    "# Print basic outlier count information\n",
    "if not outliers_iqr.empty:\n",
    "    print(f\"Found {len(outliers_iqr)} outlier(s) in 'Revenue' using IQR method.\")\n",
    "else:\n",
    "    print(\"No outliers found in 'Revenue' using IQR method.\")\n",
    "\n",
    "# --- Add a column to mark outliers in transactions ---\n",
    "transactions['Is_Outlier'] = (transactions['Revenue'] < lower_bound) | (transactions['Revenue'] > upper_bound)\n",
    "\n",
    "# --- Calculate additional statistics for outliers ---\n",
    "if not outliers_iqr.empty:\n",
    "    outliers_min = outliers_iqr['Revenue'].min()\n",
    "    outliers_median = outliers_iqr['Revenue'].median()\n",
    "    outliers_max = outliers_iqr['Revenue'].max()\n",
    "    outliers_interval = (outliers_min, outliers_max)\n",
    "    pct_outliers = (len(outliers_iqr) / len(transactions)) * 100\n",
    "\n",
    "    print(\"\\nOutlier Statistics:\")\n",
    "    print(f\"Minimum outlier value: {outliers_min}\")\n",
    "    print(f\"Median outlier value: {outliers_median}\")\n",
    "    print(f\"Maximum outlier value: {outliers_max}\")\n",
    "    print(f\"Outlier interval: {outliers_interval}\")\n",
    "    print(f\"Percentage of outliers: {pct_outliers:.2f}%\")\n",
    "else:\n",
    "    print(\"No outlier statistics to display.\")\n",
    "\n",
    "# --- Calculate number of negative Revenue values (if applicable) ---\n",
    "negative_revenue = transactions[transactions['Revenue'] < 0]\n",
    "num_negative = len(negative_revenue)\n",
    "if num_negative > 0:\n",
    "    print(f\"\\nFound {num_negative} transaction(s) with negative Revenue.\")\n",
    "else:\n",
    "    print(\"\\nNo negative Revenue values found.\")\n",
    "\n",
    "# --- Create a scatter plot to visualize Revenue and mark outliers ---\n",
    "plt.figure(figsize=(10, 6))\n",
    "# Color code: red for outliers, blue for non-outliers\n",
    "plt.scatter(transactions.index, transactions['Revenue'], \n",
    "            c=transactions['Is_Outlier'].map({True: 'red', False: 'blue'}), \n",
    "            alpha=0.6)\n",
    "\n",
    "plt.title('Scatter Plot of Revenue (Outliers Highlighted)', fontsize=14)\n",
    "plt.xlabel('Index', fontsize=12)\n",
    "plt.ylabel('Revenue', fontsize=12)\n",
    "\n",
    "# Create custom legend\n",
    "from matplotlib.lines import Line2D\n",
    "legend_elements = [Line2D([0], [0], marker='o', color='w', label='Non-Outlier', markerfacecolor='blue', markersize=8),\n",
    "                   Line2D([0], [0], marker='o', color='w', label='Outlier', markerfacecolor='red', markersize=8)]\n",
    "plt.legend(handles=legend_elements, loc='upper right')\n",
    "\n",
    "plt.show()"
   ]
  },
  {
   "cell_type": "markdown",
   "id": "950cfe0b",
   "metadata": {},
   "source": [
    "Checking for inconsistency in Quantity Column"
   ]
  },
  {
   "cell_type": "code",
   "execution_count": 22,
   "id": "fb2bf38c",
   "metadata": {},
   "outputs": [
    {
     "name": "stdout",
     "output_type": "stream",
     "text": [
      "Found 54672 row(s) with negative or zero 'Quantity':\n",
      "         Quantity\n",
      "10           -1.0\n",
      "78           -1.0\n",
      "86            0.0\n",
      "147           0.0\n",
      "148           0.0\n",
      "...           ...\n",
      "2679307      -1.0\n",
      "2679309      -1.0\n",
      "2679310      -1.0\n",
      "2679891      -1.0\n",
      "2679894      -1.0\n",
      "\n",
      "[54672 rows x 1 columns]\n"
     ]
    }
   ],
   "source": [
    "invalid_quantity = transactions[transactions['Quantity'] <= 0]\n",
    "\n",
    "if not invalid_quantity.empty:\n",
    "    print(f\"Found {len(invalid_quantity)} row(s) with negative or zero 'Quantity':\")\n",
    "    print(invalid_quantity[['Quantity']])\n",
    "else:\n",
    "    print(\"No rows found with negative or zero 'Quantity'.\")"
   ]
  },
  {
   "cell_type": "code",
   "execution_count": 23,
   "id": "538908ac",
   "metadata": {},
   "outputs": [
    {
     "name": "stdout",
     "output_type": "stream",
     "text": [
      "No inconsistencies found where 'Quantity' is less than 0 but 'Sale_Return' is not 0.\n"
     ]
    }
   ],
   "source": [
    "# Filter rows where Quantity is less than 0 but Sale_Return is not 0\n",
    "invalid_quantity_sale_return = transactions[(transactions['Quantity'] < 0) & (transactions['Sale_Return'] != 0)]\n",
    "\n",
    "if not invalid_quantity_sale_return.empty:\n",
    "    print(f\"Found {len(invalid_quantity_sale_return)} inconsistent row(s) where 'Quantity' is less than 0 but 'Sale_Return' is not 0:\")\n",
    "    print(invalid_quantity_sale_return[['Quantity', 'Sale_Return']])\n",
    "else:\n",
    "    print(\"No inconsistencies found where 'Quantity' is less than 0 but 'Sale_Return' is not 0.\")"
   ]
  },
  {
   "cell_type": "markdown",
   "id": "39a27933",
   "metadata": {},
   "source": [
    "Clients Dataset"
   ]
  },
  {
   "cell_type": "code",
   "execution_count": 17,
   "id": "63fd5ab1",
   "metadata": {},
   "outputs": [
    {
     "name": "stdout",
     "output_type": "stream",
     "text": [
      "Client_id                      int64\n",
      "Registration_date     datetime64[ns]\n",
      "Gender                        object\n",
      "Age                          float64\n",
      "Number_of_receipts             int64\n",
      "Total_revenue                  int64\n",
      "dtype: object\n"
     ]
    }
   ],
   "source": [
    "# Convert 'Registration_date' to datetime\n",
    "clients['Registration_date'] = pd.to_datetime(clients['Registration_date'], errors='coerce')\n",
    "#convert Number_of_receipts to numeric\n",
    "clients['Number_of_receipts'] = pd.to_numeric(clients['Number_of_receipts'], errors='coerce')\n",
    "#CONVERT Total_revenue TO NUMERIC\n",
    "clients['Total_revenue'] = pd.to_numeric(clients['Total_revenue'], errors='coerce')\n",
    "#CONVERT AGE TO NUMERIC\n",
    "clients['Age'] = pd.to_numeric(clients['Age'], errors='coerce')\n",
    "\n",
    "print(clients.dtypes)       "
   ]
  },
  {
   "cell_type": "code",
   "execution_count": 18,
   "id": "a8024142",
   "metadata": {},
   "outputs": [
    {
     "name": "stdout",
     "output_type": "stream",
     "text": [
      "No rows found with negative 'Total_revenue'.\n"
     ]
    }
   ],
   "source": [
    "#check that Total_revenue is not negative\n",
    "invalid_total_revenue = clients[clients['Total_revenue'] < 0]\n",
    "\n",
    "if not invalid_total_revenue.empty:\n",
    "    print(f\"Found {len(invalid_total_revenue)} row(s) with negative 'Total_revenue':\")\n",
    "    print(invalid_total_revenue[['Total_revenue']])\n",
    "else:\n",
    "    print(\"No rows found with negative 'Total_revenue'.\")"
   ]
  }
 ],
 "metadata": {
  "kernelspec": {
   "display_name": "3.10.16",
   "language": "python",
   "name": "python3"
  },
  "language_info": {
   "codemirror_mode": {
    "name": "ipython",
    "version": 3
   },
   "file_extension": ".py",
   "mimetype": "text/x-python",
   "name": "python",
   "nbconvert_exporter": "python",
   "pygments_lexer": "ipython3",
   "version": "3.10.16"
  }
 },
 "nbformat": 4,
 "nbformat_minor": 5
}
