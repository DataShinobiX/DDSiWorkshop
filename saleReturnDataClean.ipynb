{
 "cells": [
  {
   "cell_type": "markdown",
   "id": "6907965d",
   "metadata": {},
   "source": [
    "To run this code, place the original dataset in Comfy_Data Directory. The code runs for 31mins, in order to clean dataset. \n",
    "\n",
    "How the Code Does This: <br>\n",
    "Split the data into two groups: <br>\n",
    "    •   Purchases → where Sale_Return == 1 <br>\n",
    "\t•   Returns → where Sale_Return == 0 <br>\n",
    "<br>\n",
    "For each return: <br>\n",
    "\t•\tLook through the list of previous purchases made by the same customer for the same product (SKU). <br>\n",
    "\t•\tFind a purchase made before the return date. <br>\n",
    "\t•\tCheck if the purchase has enough remaining quantity to match the return quantity. <br>\n",
    "\t•\tIf yes: <br>\n",
    "\t    •\tLink the return to that purchase.<br>\n",
    "\t    •\tReduce the purchase’s remaining quantity (so it won’t be reused again for another return beyond its quantity).<br>\n",
    "\t    •\tMark the purchase as “returned” and store the return’s Receipt_id.<br>\n",
    "<br>\n",
    "After processing: <br>\n",
    "\t•\tThe purchase rows will have: <br>\n",
    "\t    •\tA return_flag = True <br>\n",
    "\t    •\tA list of return receipt_ids linked to that purchase <br>\n",
    "\t    •\tThe return rows will have: <br>\n",
    "\t        •\tA matched_purchase_receipt_id showing which purchase it belongs to  "
   ]
  },
  {
   "cell_type": "code",
   "execution_count": 1,
   "id": "b4c986c9",
   "metadata": {},
   "outputs": [],
   "source": [
    "import pandas as pd"
   ]
  },
  {
   "cell_type": "code",
   "execution_count": null,
   "id": "eb84487b",
   "metadata": {},
   "outputs": [],
   "source": [
    "transactions = pd.read_csv('Comfy_Data/Transactions.csv', sep = ';')"
   ]
  },
  {
   "cell_type": "code",
   "execution_count": 5,
   "id": "6a09c6d9",
   "metadata": {},
   "outputs": [],
   "source": [
    "# Convert 'Sale_Return', 'Client_id', 'Credit', and 'SKU_id', 'Revenue', 'Quantity'  to numeric types\n",
    "transactions['Revenue'] = pd.to_numeric(transactions['Revenue'], errors='coerce')\n",
    "transactions['Quantity'] = pd.to_numeric(transactions['Quantity'], errors='coerce')\n",
    "transactions['Sale_Return'] = pd.to_numeric(transactions['Sale_Return'], errors='coerce')\n",
    "transactions['Client_id'] = pd.to_numeric(transactions['Client_id'], errors='coerce')\n",
    "transactions['Credit'] = pd.to_numeric(transactions['Credit'], errors='coerce')\n",
    "transactions['SKU_id'] = pd.to_numeric(transactions['SKU_id'], errors='coerce')\n",
    "\n",
    "#Convert to date time \n",
    "transactions['Date'] = pd.to_datetime(transactions['Date'], errors='coerce')"
   ]
  },
  {
   "cell_type": "code",
   "execution_count": null,
   "id": "e7e4166d",
   "metadata": {},
   "outputs": [],
   "source": [
    "# Separate purchases and returns\n",
    "purchases = transactions[transactions['Sale_Return'] == 1].copy()\n",
    "returns = transactions[transactions['Sale_Return'] == 0].copy()\n",
    "\n",
    "purchases['remaining_qty'] = purchases['Quantity']\n",
    "purchases['return_flag'] = False\n",
    "purchases['return_receipt_ids'] = [[] for _ in range(len(purchases))]\n",
    "\n",
    "returns['matched'] = False\n",
    "returns['matched_purchase_receipt_id'] = None\n",
    "\n",
    "# Revenue per unit for tighter matching\n",
    "purchases['rev_per_unit'] = purchases['Revenue'] / purchases['Quantity']\n",
    "returns['rev_per_unit'] = abs(returns['Revenue'] / returns['Quantity'])\n",
    "\n",
    "# Match returns to purchases with Partial returns\n",
    "for idx, ret in returns.iterrows():\n",
    "    matches = purchases[\n",
    "        (purchases['Client_id'] == ret['Client_id']) &\n",
    "        (purchases['SKU_id'] == ret['SKU_id']) &\n",
    "        (purchases['Date'] < ret['Date']) &\n",
    "        (purchases['remaining_qty'] >= ret['Quantity']) &\n",
    "        (abs(purchases['rev_per_unit'] - ret['rev_per_unit']) < 1e-2)  \n",
    "    ].sort_values(by='Date', ascending=True)  # Oldest first\n",
    "\n",
    "    if not matches.empty:\n",
    "        match_idx = matches.index[0]\n",
    "        purchases.at[match_idx, 'remaining_qty'] -= ret['Quantity']\n",
    "        purchases.at[match_idx, 'return_flag'] = True\n",
    "        purchases.at[match_idx, 'return_receipt_ids'].append(ret['Receipt_id'])\n",
    "        returns.at[idx, 'matched'] = True\n",
    "        returns.at[idx, 'matched_purchase_receipt_id'] = purchases.at[match_idx, 'Receipt_id']\n",
    "\n",
    "transactions = transactions.merge(\n",
    "    purchases[['Receipt_id', 'return_flag', 'return_receipt_ids']],\n",
    "    on='Receipt_id', how='left'\n",
    ")"
   ]
  },
  {
   "cell_type": "code",
   "execution_count": 13,
   "id": "7cc284ca",
   "metadata": {},
   "outputs": [
    {
     "data": {
      "text/plain": [
       "Index(['City', 'Date', 'Receipt_id', 'Sale_Return', 'Client_id', 'Channel',\n",
       "       'Platform', 'Credit', 'SKU_id', 'Business', 'Brand', 'Category',\n",
       "       'Region', 'Revenue', 'Quantity', 'City_On_Off', 'Category_Ukr',\n",
       "       'return_flag', 'return_receipt_ids'],\n",
       "      dtype='object')"
      ]
     },
     "execution_count": 13,
     "metadata": {},
     "output_type": "execute_result"
    }
   ],
   "source": [
    "transactions.columns"
   ]
  },
  {
   "cell_type": "code",
   "execution_count": 7,
   "id": "12c51b70",
   "metadata": {},
   "outputs": [
    {
     "name": "stdout",
     "output_type": "stream",
     "text": [
      "                      Receipt_id  Client_id   SKU_id  Quantity  remaining_qty  \\\n",
      "47       17.09.2024-Ч002001-0039  635805339  2644845       1.0            2.0   \n",
      "63         07.09.2023-ЧDNZ2-0020  689241200  1114847       1.0            2.0   \n",
      "149        27.03.2023-ЧDNZ2-0008  675272050  1961322       1.0            2.0   \n",
      "293      21.12.2024-Ч002026-0034  677334771  2754877       1.0            2.0   \n",
      "464      31.12.2024-Ч002001-0053  976224604  1033992       1.0            2.0   \n",
      "...                          ...        ...      ...       ...            ...   \n",
      "2679488    04.01.2025-ЧMIR2-0273  983663224     7172       1.0            2.0   \n",
      "2679824  02.03.2025-Ч029307-0661  981709336     7172       1.0            2.0   \n",
      "2679825  02.03.2025-Ч029307-0661  981709336  3201124       1.0            2.0   \n",
      "2679892  05.03.2025-Ч029307-1588  960835042  2325154       1.0            2.0   \n",
      "2679893  05.03.2025-Ч029307-1588  960835042     7139       1.0            2.0   \n",
      "\n",
      "                   return_receipt_ids  \n",
      "47          [18.09.2024-П002002-0008]  \n",
      "63       [09.09.2023-ВНDNZ-000001997]  \n",
      "149      [01.04.2023-ВНDNZ-000000670]  \n",
      "293         [29.12.2024-П002007-0010]  \n",
      "464         [02.01.2025-П002007-0006]  \n",
      "...                               ...  \n",
      "2679488     [11.01.2025-П046801-0009]  \n",
      "2679824     [05.03.2025-П052015-0001]  \n",
      "2679825     [05.03.2025-П052015-0001]  \n",
      "2679892     [07.03.2025-П029618-0008]  \n",
      "2679893     [07.03.2025-П029618-0008]  \n",
      "\n",
      "[37238 rows x 6 columns]\n"
     ]
    }
   ],
   "source": [
    "returned_purchases = purchases[purchases['return_flag'] == True]\n",
    "print(returned_purchases[['Receipt_id', 'Client_id', 'SKU_id', 'Quantity', 'remaining_qty', 'return_receipt_ids']])"
   ]
  },
  {
   "cell_type": "code",
   "execution_count": 9,
   "id": "f6b06f75",
   "metadata": {},
   "outputs": [
    {
     "name": "stdout",
     "output_type": "stream",
     "text": [
      "                      Receipt_id  Client_id   SKU_id  Quantity  remaining_qty  \\\n",
      "47       17.09.2024-Ч002001-0039  635805339  2644845       1.0            2.0   \n",
      "63         07.09.2023-ЧDNZ2-0020  689241200  1114847       1.0            2.0   \n",
      "149        27.03.2023-ЧDNZ2-0008  675272050  1961322       1.0            2.0   \n",
      "293      21.12.2024-Ч002026-0034  677334771  2754877       1.0            2.0   \n",
      "464      31.12.2024-Ч002001-0053  976224604  1033992       1.0            2.0   \n",
      "...                          ...        ...      ...       ...            ...   \n",
      "2679488    04.01.2025-ЧMIR2-0273  983663224     7172       1.0            2.0   \n",
      "2679824  02.03.2025-Ч029307-0661  981709336     7172       1.0            2.0   \n",
      "2679825  02.03.2025-Ч029307-0661  981709336  3201124       1.0            2.0   \n",
      "2679892  05.03.2025-Ч029307-1588  960835042  2325154       1.0            2.0   \n",
      "2679893  05.03.2025-Ч029307-1588  960835042     7139       1.0            2.0   \n",
      "\n",
      "                   return_receipt_ids  \n",
      "47          [18.09.2024-П002002-0008]  \n",
      "63       [09.09.2023-ВНDNZ-000001997]  \n",
      "149      [01.04.2023-ВНDNZ-000000670]  \n",
      "293         [29.12.2024-П002007-0010]  \n",
      "464         [02.01.2025-П002007-0006]  \n",
      "...                               ...  \n",
      "2679488     [11.01.2025-П046801-0009]  \n",
      "2679824     [05.03.2025-П052015-0001]  \n",
      "2679825     [05.03.2025-П052015-0001]  \n",
      "2679892     [07.03.2025-П029618-0008]  \n",
      "2679893     [07.03.2025-П029618-0008]  \n",
      "\n",
      "[37238 rows x 6 columns]\n"
     ]
    }
   ],
   "source": [
    "returned_purchases = purchases[purchases['return_flag'] == True]\n",
    "print(returned_purchases[['Receipt_id', 'Client_id', 'SKU_id', 'Quantity', 'remaining_qty', 'return_receipt_ids']])"
   ]
  },
  {
   "cell_type": "code",
   "execution_count": 10,
   "id": "7068f864",
   "metadata": {},
   "outputs": [
    {
     "name": "stdout",
     "output_type": "stream",
     "text": [
      "                         Receipt_id  Client_id   SKU_id  Quantity  \\\n",
      "10          18.09.2024-П002002-0008  635805339  2644845      -1.0   \n",
      "159      01.04.2023-ВНDNZ-000000670  675272050  1961322      -1.0   \n",
      "195         24.11.2023-П002007-0002  508855828  1660367      -1.0   \n",
      "253         17.12.2023-П002007-0005  972916768  2549538      -1.0   \n",
      "291         20.01.2024-П002007-0001  636372701   979348      -1.0   \n",
      "...                             ...        ...      ...       ...   \n",
      "2679307     18.02.2025-П029601-0009  961827242  1356353      -1.0   \n",
      "2679309     18.02.2025-П029601-0009  961827242     7139      -1.0   \n",
      "2679310     18.02.2025-П029601-0009  961827242  2688619      -1.0   \n",
      "2679891     07.03.2025-П029618-0008  960835042  2325154      -1.0   \n",
      "2679894     07.03.2025-П029618-0008  960835042     7139      -1.0   \n",
      "\n",
      "        matched_purchase_receipt_id  \n",
      "10          17.09.2024-Ч002001-0039  \n",
      "159           27.03.2023-ЧDNZ2-0008  \n",
      "195         20.11.2023-Ч002002-0022  \n",
      "253         16.12.2023-Ч002002-0072  \n",
      "291         19.01.2024-Ч002003-0081  \n",
      "...                             ...  \n",
      "2679307       10.01.2025-ЧMIR1-0836  \n",
      "2679309       16.01.2025-ЧMIR2-0802  \n",
      "2679310       10.01.2025-ЧMIR1-0836  \n",
      "2679891     05.03.2025-Ч029307-1588  \n",
      "2679894     05.03.2025-Ч029307-1588  \n",
      "\n",
      "[37718 rows x 5 columns]\n"
     ]
    }
   ],
   "source": [
    "matched_returns = returns[returns['matched'] == True]\n",
    "print(matched_returns[['Receipt_id', 'Client_id', 'SKU_id', 'Quantity', 'matched_purchase_receipt_id']])"
   ]
  },
  {
   "cell_type": "code",
   "execution_count": 11,
   "id": "f239a13d",
   "metadata": {},
   "outputs": [
    {
     "name": "stdout",
     "output_type": "stream",
     "text": [
      "                         Receipt_id  Client_id   SKU_id  Quantity       Date\n",
      "78          06.10.2024-П002002-0001  979352501  2981833      -1.0 2024-10-06\n",
      "224         22.07.2024-П002007-0007  988938232  2486762       NaN 2024-07-22\n",
      "349         06.06.2024-П002007-0002  676352297  1043666      -1.0 2024-06-06\n",
      "438         24.01.2025-П002007-0006  671119002  1828252      -1.0 2025-01-24\n",
      "453         19.05.2024-П002007-0002  968861131  1627263      -1.0 2024-05-19\n",
      "...                             ...        ...      ...       ...        ...\n",
      "2628511  16.11.2024-ВНMIR-000001598  974500461  2686493      -1.0 2024-11-16\n",
      "2647544  31.05.2023-ВНMIR-000000649  671380728  1732823      -1.0 2023-05-31\n",
      "2659007  04.01.2024-ВНLLR-000000068  507389902  2486415       NaN 2024-01-04\n",
      "2661731  25.09.2023-ВНMIR-000001794  682875945     7172      -1.0 2023-09-25\n",
      "2661733  25.09.2023-ВНMIR-000001794  682875945  1647453      -1.0 2023-09-25\n",
      "\n",
      "[14970 rows x 5 columns]\n"
     ]
    }
   ],
   "source": [
    "unmatched_returns = returns[returns['matched'] == False]\n",
    "print(unmatched_returns[['Receipt_id', 'Client_id', 'SKU_id', 'Quantity', 'Date']])"
   ]
  },
  {
   "cell_type": "code",
   "execution_count": 14,
   "id": "dceb2733",
   "metadata": {},
   "outputs": [],
   "source": [
    "# Filter purchases that were completely returned (i.e., remaining_qty == 0)\n",
    "fully_returned_purchases = purchases[purchases['remaining_qty'] == 0]\n",
    "\n",
    "# Get their Receipt IDs\n",
    "fully_returned_ids = fully_returned_purchases['Receipt_id'].tolist()\n",
    "\n",
    "# Now remove those rows from the main df\n",
    "df_cleaned = transactions[~transactions['Receipt_id'].isin(fully_returned_ids)]\n",
    "\n",
    "# Optional: Reset index\n",
    "df_cleaned = df_cleaned.reset_index(drop=True)"
   ]
  },
  {
   "cell_type": "code",
   "execution_count": 15,
   "id": "981ecf30",
   "metadata": {},
   "outputs": [],
   "source": [
    "df_cleaned.to_csv('Comfy_Data/transactions_without_fully_returned_purchases.csv', index=False)"
   ]
  }
 ],
 "metadata": {
  "kernelspec": {
   "display_name": "3.10.16",
   "language": "python",
   "name": "python3"
  },
  "language_info": {
   "codemirror_mode": {
    "name": "ipython",
    "version": 3
   },
   "file_extension": ".py",
   "mimetype": "text/x-python",
   "name": "python",
   "nbconvert_exporter": "python",
   "pygments_lexer": "ipython3",
   "version": "3.10.16"
  }
 },
 "nbformat": 4,
 "nbformat_minor": 5
}
